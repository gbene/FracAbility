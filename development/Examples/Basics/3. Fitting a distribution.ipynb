{
 "cells": [
  {
   "cell_type": "markdown",
   "id": "c15b173e-4c31-4b88-9a0f-3d3277a1f96a",
   "metadata": {},
   "source": [
    "# Statistical analysis of a fracture network\n",
    "\n",
    "This notebook will show how to perform statistical analysis of the analyized network. It will show how to:\n",
    "+ Fit different distributions to the dataset\n",
    "+ Plot summary plots for each fitted distribution\n",
    "+ Visually compare different fits using PIT\n",
    "+ Show and export statistical summary tables"
   ]
  },
  {
   "cell_type": "code",
   "execution_count": null,
   "id": "d3122f6d-7e05-46c2-bf97-c4a523477ae9",
   "metadata": {},
   "outputs": [],
   "source": [
    "from fracability.examples import data  # import the path of the sample data\n",
    "from fracability import Entities, Statistics  # import the Entities class\n",
    "\n",
    "import scipy.stats as ss\n",
    "import matplotlib.pyplot as plt\n",
    "# The following is only for jupyter to avoid matplotlib inline plots\n",
    "%matplotlib qt5"
   ]
  },
  {
   "cell_type": "markdown",
   "id": "26c12566-698d-4b39-aae7-47403f21eddd",
   "metadata": {},
   "source": [
    "## Import the Pontrelli quarry Set a and calculate the topology"
   ]
  },
  {
   "cell_type": "code",
   "execution_count": null,
   "id": "9c33a71a-33ff-4ed6-8ff2-e937d29f6bb1",
   "metadata": {},
   "outputs": [],
   "source": [
    "pontrelli_data = data.Pontrelli()\n",
    "data_dict = pontrelli_data.data_dict  # Get dict of paths for the data\n",
    "\n",
    "# Create the fractures and boundary objects. \n",
    "set_a = Entities.Fractures(shp=data_dict['Set_a.shp'], set_n=1)  # to add your data put the absolute path of the shp file\n",
    "\n",
    "boundary = Entities.Boundary(shp=data_dict['Interpretation_boundary.shp'], group_n=1)\n",
    "\n",
    "fracture_net = Entities.FractureNetwork()\n",
    "\n",
    "fracture_net.add_fractures(set_a)\n",
    "fracture_net.add_boundaries(boundary)\n",
    "\n",
    "fracture_net.calculate_topology()"
   ]
  },
  {
   "cell_type": "markdown",
   "id": "0178f379-1136-44ee-b582-b4022afeec1c",
   "metadata": {},
   "source": [
    "## NetworkFitter \n",
    "\n",
    "The network fitter class is responsible of running the statistical analysis on the fracture network. There are different options:\n",
    "1. use_survival: Boolean flag to use survival (True) or treat the data as if there were no censoring (False). Default is True. \n",
    "2. complete_only: Boolean flag to use only complete measurements (True) or all the dataset (False). This flag is used only when use_survival is False. Default is False.\n",
    "3. use_AIC: Boolean flag to use AIC (true) or AICc (false) for model selection. Default is True\n",
    "\n",
    "\n",
    "These options are useful to compare different ways of fitting the data with survival analysis however we strongly suggest to always use survival analysis since in case of no censoring the final results will be the same as the other methods."
   ]
  },
  {
   "cell_type": "code",
   "execution_count": null,
   "id": "b4829d42-ada1-47da-85c9-213cc98ec076",
   "metadata": {},
   "outputs": [],
   "source": [
    "fitter = Statistics.NetworkFitter(fracture_net)"
   ]
  },
  {
   "cell_type": "markdown",
   "id": "9764c325-a97f-47cd-ab44-a890fce3ca94",
   "metadata": {},
   "source": [
    "### Fit different distributions\n",
    "\n",
    "All the rv_continous distribution present in scipy are valid (https://docs.scipy.org/doc/scipy/reference/stats.html#continuous-distributions).\n",
    "\n",
    "Each time a fit is run the Akaike, Kolmogorov-Smirnov, Koziol and Green and Anderson Darling distances are calculated and saved."
   ]
  },
  {
   "cell_type": "code",
   "execution_count": null,
   "id": "fc7b36c7-0251-4d3a-8447-747ec6051020",
   "metadata": {},
   "outputs": [],
   "source": [
    "fitter.fit('lognorm')\n",
    "fitter.fit('expon')\n",
    "fitter.fit('norm')\n",
    "fitter.fit('gengamma')\n",
    "fitter.fit('powerlaw')\n",
    "fitter.fit('weibull_min')"
   ]
  },
  {
   "cell_type": "markdown",
   "id": "37bfe48d-139b-4554-988d-c5ff5ecb82a4",
   "metadata": {},
   "source": [
    "### Show the model rank table"
   ]
  },
  {
   "cell_type": "code",
   "execution_count": null,
   "id": "7fe0e81c-fef2-4861-95da-98e5caacf2db",
   "metadata": {},
   "outputs": [],
   "source": [
    "fitter.fit_records(sort_by='Akaike').iloc[:,:-1] # the iloc is to remove the last column that is not useful in this case"
   ]
  },
  {
   "cell_type": "markdown",
   "id": "982468f6-fe22-4c00-92bc-acc7cbbb143f",
   "metadata": {},
   "source": [
    "### Plot the different models using PIT and summary plots"
   ]
  },
  {
   "cell_type": "code",
   "execution_count": null,
   "id": "dfea5930-2f01-452e-bb7a-8242c4556c04",
   "metadata": {},
   "outputs": [],
   "source": [
    "# Plot specific model\n",
    "fitter.plot_PIT(fitter,position=[3],sort_by='Akaike')"
   ]
  },
  {
   "cell_type": "code",
   "execution_count": null,
   "id": "c14d8b8b-abe0-4261-811e-9bada0c23bf7",
   "metadata": {},
   "outputs": [],
   "source": [
    "# Plot specific models together\n",
    "fitter.plot_PIT(fitter,position=[1,2,3],sort_by='Akaike',show_plot=True)"
   ]
  },
  {
   "cell_type": "code",
   "execution_count": null,
   "id": "e42e2c32-18fe-4f0a-a587-350aa59d3b1f",
   "metadata": {},
   "outputs": [],
   "source": [
    "# Plot all the models\n",
    "fitter.plot_PIT(sort_by='Akaike') "
   ]
  },
  {
   "cell_type": "code",
   "execution_count": null,
   "id": "3f909a0c-462a-4052-891d-324c2b0b5637",
   "metadata": {},
   "outputs": [],
   "source": [
    "# Plot specific model\n",
    "fitter.plot_summary(position=[1], sort_by='Mean_rank')"
   ]
  },
  {
   "cell_type": "code",
   "execution_count": null,
   "id": "6a9931fb-dff6-4dcf-9aed-8d24b33203f1",
   "metadata": {},
   "outputs": [],
   "source": [
    "# Plot specific models (separate plots)\n",
    "fitter.plot_summary(position=[1,2,3], sort_by='Mean_rank')"
   ]
  },
  {
   "cell_type": "code",
   "execution_count": null,
   "id": "7ec79159-b75d-4d56-b532-ff6ef3ab9ccc",
   "metadata": {},
   "outputs": [],
   "source": [
    "# Plot all the models (separate plots)\n",
    "fitter.plot_summary(sort_by='Mean_rank')"
   ]
  },
  {
   "cell_type": "markdown",
   "id": "eef31302-5eae-45bb-a82c-99e2cfba1297",
   "metadata": {},
   "source": [
    "### Export the fit_records table\n",
    "\n",
    "The fit_records table can also be saved as csv, excel or directly to clipboard in a excel friendly format "
   ]
  },
  {
   "cell_type": "code",
   "execution_count": null,
   "id": "ec3da8ba-0075-4e4c-9315-5b8daaf86b50",
   "metadata": {},
   "outputs": [],
   "source": [
    "fitter.fit_result_to_csv('test_export.csv')\n",
    "fitter.fit_result_to_excel('test_export.xlsx')\n",
    "fitter.fit_result_to_clipboard()"
   ]
  }
 ],
 "metadata": {
  "kernelspec": {
   "display_name": "Python 3 (ipykernel)",
   "language": "python",
   "name": "python3"
  },
  "language_info": {
   "codemirror_mode": {
    "name": "ipython",
    "version": 3
   },
   "file_extension": ".py",
   "mimetype": "text/x-python",
   "name": "python",
   "nbconvert_exporter": "python",
   "pygments_lexer": "ipython3",
   "version": "3.10.14"
  }
 },
 "nbformat": 4,
 "nbformat_minor": 5
}
