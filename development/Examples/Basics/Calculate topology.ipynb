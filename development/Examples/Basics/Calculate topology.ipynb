{
 "cells": [
  {
   "cell_type": "markdown",
   "id": "419d22ec-358b-4878-b649-89640b271203",
   "metadata": {},
   "source": [
    "# Calculate topology of a fracture network and plotting\n",
    "\n",
    "This notebook will show how to calculate the topology for the Pontrelli dataset, plot:\n",
    "+ The nodes\n",
    "+ The ternary diagram\n",
    "+ The backbone"
   ]
  },
  {
   "cell_type": "code",
   "execution_count": 1,
   "id": "3cc8f1bf-e80f-45ea-9c53-84bfd7ff97a4",
   "metadata": {},
   "outputs": [],
   "source": [
    "from fracability.examples import data  # import the path of the sample data\n",
    "from fracability import Entities  # import the Entities class\n",
    "\n",
    "# The following is only for jupyter to avoid matplotlib inline plots\n",
    "%matplotlib qt5"
   ]
  },
  {
   "cell_type": "markdown",
   "id": "f41eb661-047b-42fb-b62f-9da1a8e57252",
   "metadata": {},
   "source": [
    "## Create fracture network entity"
   ]
  },
  {
   "cell_type": "code",
   "execution_count": 2,
   "id": "d22df7fa-0b59-4042-8c98-4b4f623e49f8",
   "metadata": {},
   "outputs": [],
   "source": [
    "pontrelli_data = data.Pontrelli()\n",
    "data_dict = pontrelli_data.data_dict  # Get dict of paths for the data\n",
    "\n",
    "# Create the fractures and boundary objects. \n",
    "set_a = Entities.Fractures(shp=data_dict['Set_a.shp'], set_n=1)  # to add your data put the absolute path of the shp file\n",
    "set_b = Entities.Fractures(shp=data_dict['Set_b.shp'], set_n=2)\n",
    "set_c = Entities.Fractures(shp=data_dict['Set_c.shp'], set_n=3)\n",
    "\n",
    "boundary = Entities.Boundary(shp=data_dict['Interpretation_boundary.shp'], group_n=1)\n",
    "\n",
    "fracture_net = Entities.FractureNetwork()\n",
    "\n",
    "fracture_net.add_fractures(set_a)\n",
    "fracture_net.add_fractures(set_b)\n",
    "fracture_net.add_fractures(set_c)\n",
    "fracture_net.add_boundaries(boundary)"
   ]
  },
  {
   "cell_type": "markdown",
   "id": "03a7146c-5775-4954-8248-7ddaa81584e0",
   "metadata": {},
   "source": [
    "## Calculate the topology of the network"
   ]
  },
  {
   "cell_type": "code",
   "execution_count": 3,
   "id": "76398d76-ee13-4365-a203-b0d59dbe57fa",
   "metadata": {},
   "outputs": [
    {
     "name": "stdout",
     "output_type": "stream",
     "text": [
      "\n",
      "\n",
      "\n",
      "Calculating intersections: 4271/4272\n",
      "\n",
      "\n",
      "Analyzing nodes:35745/35746\r"
     ]
    }
   ],
   "source": [
    "fracture_net.calculate_topology()"
   ]
  },
  {
   "cell_type": "markdown",
   "id": "16ce4e91-256f-4ed8-bb01-26b9ffa8ba90",
   "metadata": {},
   "source": [
    "### Plot the network"
   ]
  },
  {
   "cell_type": "code",
   "execution_count": 4,
   "id": "587d4f0d-b220-4a72-a919-b653e0741e5e",
   "metadata": {},
   "outputs": [],
   "source": [
    "fracture_net.vtk_plot()\n",
    "fracture_net.mat_plot()"
   ]
  },
  {
   "cell_type": "markdown",
   "id": "3125d707-653c-4560-869f-1126f8026bdd",
   "metadata": {},
   "source": [
    "### Plot the ternary diagram"
   ]
  },
  {
   "cell_type": "code",
   "execution_count": 5,
   "id": "b51526f7-00a8-43a3-9d94-3ab080ddc943",
   "metadata": {},
   "outputs": [
    {
     "name": "stderr",
     "output_type": "stream",
     "text": [
      "C:\\Users\\gabri\\miniconda3\\envs\\fracability_test\\lib\\site-packages\\ternary\\plotting.py:148: UserWarning: No data for colormapping provided via 'c'. Parameters 'vmin', 'vmax' will be ignored\n",
      "  ax.scatter(xs, ys, vmin=vmin, vmax=vmax, **kwargs)\n"
     ]
    }
   ],
   "source": [
    "fracture_net.ternary_plot()"
   ]
  },
  {
   "cell_type": "markdown",
   "id": "c5ad7b72-87da-4bb3-b1c8-c70d389f52a6",
   "metadata": {},
   "source": [
    "### Plot the backbone"
   ]
  },
  {
   "cell_type": "code",
   "execution_count": 6,
   "id": "7116a8bf-2682-4530-aa6e-ccbf0f94b641",
   "metadata": {},
   "outputs": [],
   "source": [
    "fracture_net.backbone_plot()"
   ]
  }
 ],
 "metadata": {
  "kernelspec": {
   "display_name": "Python 3 (ipykernel)",
   "language": "python",
   "name": "python3"
  },
  "language_info": {
   "codemirror_mode": {
    "name": "ipython",
    "version": 3
   },
   "file_extension": ".py",
   "mimetype": "text/x-python",
   "name": "python",
   "nbconvert_exporter": "python",
   "pygments_lexer": "ipython3",
   "version": "3.10.14"
  }
 },
 "nbformat": 4,
 "nbformat_minor": 5
}
