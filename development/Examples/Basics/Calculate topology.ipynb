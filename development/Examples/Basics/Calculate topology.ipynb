{
 "cells": [
  {
   "cell_type": "markdown",
   "id": "419d22ec-358b-4878-b649-89640b271203",
   "metadata": {},
   "source": [
    "# Calculate topology of a fracture network and plotting\n",
    "\n",
    "This notebook will show how to calculate the topology for the Pontrelli dataset, plot:\n",
    "+ The nodes\n",
    "+ The ternary diagram\n",
    "+ The backbone"
   ]
  },
  {
   "cell_type": "code",
   "execution_count": 1,
   "id": "3cc8f1bf-e80f-45ea-9c53-84bfd7ff97a4",
   "metadata": {},
   "outputs": [],
   "source": [
    "from fracability.examples import data  # import the path of the sample data\n",
    "from fracability import Entities  # import the Entities class\n",
    "\n",
    "# The following is only for jupyter to avoid matplotlib inline plots\n",
    "%matplotlib qt5"
   ]
  },
  {
   "cell_type": "markdown",
   "id": "f41eb661-047b-42fb-b62f-9da1a8e57252",
   "metadata": {},
   "source": [
    "## Create fracture network entity"
   ]
  },
  {
   "cell_type": "code",
   "execution_count": 2,
   "id": "d22df7fa-0b59-4042-8c98-4b4f623e49f8",
   "metadata": {},
   "outputs": [],
   "source": [
    "pontrelli_data = data.Pontrelli()\n",
    "data_dict = pontrelli_data.data_dict  # Get dict of paths for the data\n",
    "\n",
    "# Create the fractures and boundary objects. \n",
    "set_a = Entities.Fractures(shp=data_dict['Set_a.shp'], set_n=1)  # to add your data put the absolute path of the shp file\n",
    "set_b = Entities.Fractures(shp=data_dict['Set_b.shp'], set_n=2)\n",
    "set_c = Entities.Fractures(shp=data_dict['Set_c.shp'], set_n=3)\n",
    "\n",
    "boundary = Entities.Boundary(shp=data_dict['Interpretation_boundary.shp'], group_n=1)\n",
    "\n",
    "fracture_net = Entities.FractureNetwork()\n",
    "\n",
    "fracture_net.add_fractures(set_a)\n",
    "fracture_net.add_fractures(set_b)\n",
    "fracture_net.add_fractures(set_c)\n",
    "fracture_net.add_boundaries(boundary)"
   ]
  },
  {
   "cell_type": "markdown",
   "id": "03a7146c-5775-4954-8248-7ddaa81584e0",
   "metadata": {},
   "source": [
    "## Calculate the topology of the network"
   ]
  },
  {
   "cell_type": "code",
   "execution_count": 7,
   "id": "76398d76-ee13-4365-a203-b0d59dbe57fa",
   "metadata": {},
   "outputs": [
    {
     "name": "stdout",
     "output_type": "stream",
     "text": [
      "\n",
      "\n",
      "\n",
      "Possible duplicate point found, fix geometry on gis\n",
      "[3245  415]\n"
     ]
    },
    {
     "ename": "NameError",
     "evalue": "name 'exit' is not defined",
     "output_type": "error",
     "traceback": [
      "\u001b[1;31m---------------------------------------------------------------------------\u001b[0m",
      "\u001b[1;31mIndexError\u001b[0m                                Traceback (most recent call last)",
      "File \u001b[1;32m~\\miniconda3\\envs\\fracability_test\\lib\\site-packages\\fracability\\utils\\shp_operations.py:66\u001b[0m, in \u001b[0;36mint_node\u001b[1;34m(line1, line2, idx_list, gdf)\u001b[0m\n\u001b[0;32m     65\u001b[0m scaled_first_segment \u001b[38;5;241m=\u001b[39m scale(first_seg, xfact\u001b[38;5;241m=\u001b[39mfac, yfact\u001b[38;5;241m=\u001b[39mfac, origin\u001b[38;5;241m=\u001b[39mfirst_seg\u001b[38;5;241m.\u001b[39mboundary\u001b[38;5;241m.\u001b[39mgeoms[\u001b[38;5;241m1\u001b[39m])\n\u001b[1;32m---> 66\u001b[0m scaled_last_segment \u001b[38;5;241m=\u001b[39m scale(last_seg, xfact\u001b[38;5;241m=\u001b[39mfac, yfact\u001b[38;5;241m=\u001b[39mfac, origin\u001b[38;5;241m=\u001b[39m\u001b[43mlast_seg\u001b[49m\u001b[38;5;241;43m.\u001b[39;49m\u001b[43mboundary\u001b[49m\u001b[38;5;241;43m.\u001b[39;49m\u001b[43mgeoms\u001b[49m\u001b[43m[\u001b[49m\u001b[38;5;241;43m0\u001b[39;49m\u001b[43m]\u001b[49m)\n\u001b[0;32m     67\u001b[0m extended_line \u001b[38;5;241m=\u001b[39m geom\u001b[38;5;241m.\u001b[39mLineString(\n\u001b[0;32m     68\u001b[0m     [\u001b[38;5;241m*\u001b[39mscaled_first_segment\u001b[38;5;241m.\u001b[39mcoords, \u001b[38;5;241m*\u001b[39mline2\u001b[38;5;241m.\u001b[39mcoords[\u001b[38;5;241m2\u001b[39m:\u001b[38;5;241m-\u001b[39m\u001b[38;5;241m2\u001b[39m], \u001b[38;5;241m*\u001b[39mscaled_last_segment\u001b[38;5;241m.\u001b[39mcoords])\n",
      "File \u001b[1;32m~\\miniconda3\\envs\\fracability_test\\lib\\site-packages\\shapely\\geometry\\base.py:997\u001b[0m, in \u001b[0;36mGeometrySequence.__getitem__\u001b[1;34m(self, key)\u001b[0m\n\u001b[0;32m    996\u001b[0m \u001b[38;5;28;01mif\u001b[39;00m key \u001b[38;5;241m+\u001b[39m m \u001b[38;5;241m<\u001b[39m \u001b[38;5;241m0\u001b[39m \u001b[38;5;129;01mor\u001b[39;00m key \u001b[38;5;241m>\u001b[39m\u001b[38;5;241m=\u001b[39m m:\n\u001b[1;32m--> 997\u001b[0m     \u001b[38;5;28;01mraise\u001b[39;00m \u001b[38;5;167;01mIndexError\u001b[39;00m(\u001b[38;5;124m\"\u001b[39m\u001b[38;5;124mindex out of range\u001b[39m\u001b[38;5;124m\"\u001b[39m)\n\u001b[0;32m    998\u001b[0m \u001b[38;5;28;01mif\u001b[39;00m key \u001b[38;5;241m<\u001b[39m \u001b[38;5;241m0\u001b[39m:\n",
      "\u001b[1;31mIndexError\u001b[0m: index out of range",
      "\nDuring handling of the above exception, another exception occurred:\n",
      "\u001b[1;31mNameError\u001b[0m                                 Traceback (most recent call last)",
      "Cell \u001b[1;32mIn[7], line 1\u001b[0m\n\u001b[1;32m----> 1\u001b[0m \u001b[43mfracture_net\u001b[49m\u001b[38;5;241;43m.\u001b[39;49m\u001b[43mcalculate_topology\u001b[49m\u001b[43m(\u001b[49m\u001b[43m)\u001b[49m\n",
      "File \u001b[1;32m~\\miniconda3\\envs\\fracability_test\\lib\\site-packages\\fracability\\Entities.py:1265\u001b[0m, in \u001b[0;36mFractureNetwork.calculate_topology\u001b[1;34m(self, clean_network)\u001b[0m\n\u001b[0;32m   1259\u001b[0m \u001b[38;5;250m\u001b[39m\u001b[38;5;124;03m\"\"\"\u001b[39;00m\n\u001b[0;32m   1260\u001b[0m \u001b[38;5;124;03mCalculate the topology of the network and add the calculated nodes to the network.\u001b[39;00m\n\u001b[0;32m   1261\u001b[0m \n\u001b[0;32m   1262\u001b[0m \u001b[38;5;124;03m:param clean_network: If true, before calculating the topology the network is cleaned with the clean_network. Default is True\u001b[39;00m\n\u001b[0;32m   1263\u001b[0m \u001b[38;5;124;03m\"\"\"\u001b[39;00m\n\u001b[0;32m   1264\u001b[0m \u001b[38;5;28;01mif\u001b[39;00m clean_network \u001b[38;5;129;01mis\u001b[39;00m \u001b[38;5;28;01mTrue\u001b[39;00m:\n\u001b[1;32m-> 1265\u001b[0m     \u001b[38;5;28;43mself\u001b[39;49m\u001b[38;5;241;43m.\u001b[39;49m\u001b[43mclean_network\u001b[49m\u001b[43m(\u001b[49m\u001b[43m)\u001b[49m\n\u001b[0;32m   1267\u001b[0m node_dict \u001b[38;5;241m=\u001b[39m Topology\u001b[38;5;241m.\u001b[39mnodes_conn(\u001b[38;5;28mself\u001b[39m)\n\u001b[0;32m   1268\u001b[0m \u001b[38;5;28mself\u001b[39m\u001b[38;5;241m.\u001b[39madd_nodes_from_dict(node_dict)\n",
      "File \u001b[1;32m~\\miniconda3\\envs\\fracability_test\\lib\\site-packages\\fracability\\Entities.py:1254\u001b[0m, in \u001b[0;36mFractureNetwork.clean_network\u001b[1;34m(self, buffer, inplace)\u001b[0m\n\u001b[0;32m   1245\u001b[0m \u001b[38;5;250m\u001b[39m\u001b[38;5;124;03m\"\"\"Tidy the intersection of the active entities in the fracture network. A buffer is applied to all the\u001b[39;00m\n\u001b[0;32m   1246\u001b[0m \u001b[38;5;124;03mgeometries to ensure intersection in a given radius.\u001b[39;00m\n\u001b[0;32m   1247\u001b[0m \n\u001b[1;32m   (...)\u001b[0m\n\u001b[0;32m   1250\u001b[0m \u001b[38;5;124;03m geopandas dataframe. Default is True\u001b[39;00m\n\u001b[0;32m   1251\u001b[0m \u001b[38;5;124;03m \"\"\"\u001b[39;00m\n\u001b[0;32m   1253\u001b[0m \u001b[38;5;28;01mif\u001b[39;00m inplace:\n\u001b[1;32m-> 1254\u001b[0m     \u001b[43mGeometry\u001b[49m\u001b[38;5;241;43m.\u001b[39;49m\u001b[43mtidy_intersections\u001b[49m\u001b[43m(\u001b[49m\u001b[38;5;28;43mself\u001b[39;49m\u001b[43m)\u001b[49m\n\u001b[0;32m   1255\u001b[0m \u001b[38;5;28;01melse\u001b[39;00m:\n\u001b[0;32m   1256\u001b[0m     \u001b[38;5;28;01mreturn\u001b[39;00m Geometry\u001b[38;5;241m.\u001b[39mtidy_intersections(\u001b[38;5;28mself\u001b[39m, inplace\u001b[38;5;241m=\u001b[39m\u001b[38;5;28;01mFalse\u001b[39;00m)\n",
      "File \u001b[1;32m~\\miniconda3\\envs\\fracability_test\\lib\\site-packages\\fracability\\operations\\Geometry.py:57\u001b[0m, in \u001b[0;36mtidy_intersections\u001b[1;34m(obj, buffer, inplace)\u001b[0m\n\u001b[0;32m     55\u001b[0m intersections \u001b[38;5;241m=\u001b[39m gdf\u001b[38;5;241m.\u001b[39mloc[idx_list]\n\u001b[0;32m     56\u001b[0m \u001b[38;5;28;01mfor\u001b[39;00m line2, idx_line2 \u001b[38;5;129;01min\u001b[39;00m \u001b[38;5;28mzip\u001b[39m(intersections[\u001b[38;5;124m'\u001b[39m\u001b[38;5;124mgeometry\u001b[39m\u001b[38;5;124m'\u001b[39m], idx_list):  \u001b[38;5;66;03m# for each intersecting line:\u001b[39;00m\n\u001b[1;32m---> 57\u001b[0m     new_geom \u001b[38;5;241m=\u001b[39m \u001b[43mint_node\u001b[49m\u001b[43m(\u001b[49m\u001b[43mline1\u001b[49m\u001b[43m,\u001b[49m\u001b[43m \u001b[49m\u001b[43mline2\u001b[49m\u001b[43m,\u001b[49m\u001b[43m \u001b[49m\u001b[43m[\u001b[49m\u001b[43midx_line1\u001b[49m\u001b[43m,\u001b[49m\u001b[43m \u001b[49m\u001b[43midx_line2\u001b[49m\u001b[43m]\u001b[49m\u001b[43m,\u001b[49m\u001b[43m \u001b[49m\u001b[43mgdf\u001b[49m\u001b[43m)\u001b[49m  \u001b[38;5;66;03m# Calculate and add the intersection node.\u001b[39;00m\n\u001b[0;32m     59\u001b[0m     \u001b[38;5;28;01mfor\u001b[39;00m key, value \u001b[38;5;129;01min\u001b[39;00m new_geom\u001b[38;5;241m.\u001b[39mitems():\n\u001b[0;32m     60\u001b[0m         gdf\u001b[38;5;241m.\u001b[39mloc[key, \u001b[38;5;124m'\u001b[39m\u001b[38;5;124mgeometry\u001b[39m\u001b[38;5;124m'\u001b[39m] \u001b[38;5;241m=\u001b[39m value  \u001b[38;5;66;03m# substitute the original geometry with the new geometry\u001b[39;00m\n",
      "File \u001b[1;32m~\\miniconda3\\envs\\fracability_test\\lib\\site-packages\\fracability\\utils\\shp_operations.py:101\u001b[0m, in \u001b[0;36mint_node\u001b[1;34m(line1, line2, idx_list, gdf)\u001b[0m\n\u001b[0;32m     98\u001b[0m     \u001b[38;5;28mprint\u001b[39m(\u001b[38;5;124mf\u001b[39m\u001b[38;5;124m'\u001b[39m\u001b[38;5;124mPossible duplicate point found, fix geometry on gis\u001b[39m\u001b[38;5;124m'\u001b[39m)\n\u001b[0;32m    100\u001b[0m     \u001b[38;5;28mprint\u001b[39m(np\u001b[38;5;241m.\u001b[39marray(idx_list)\u001b[38;5;241m+\u001b[39m\u001b[38;5;241m1\u001b[39m)\n\u001b[1;32m--> 101\u001b[0m     \u001b[43mexit\u001b[49m()\n\u001b[0;32m    102\u001b[0m \u001b[38;5;28;01mexcept\u001b[39;00m \u001b[38;5;167;01mValueError\u001b[39;00m:\n\u001b[0;32m    103\u001b[0m     obj1_idx \u001b[38;5;241m=\u001b[39m gdf\u001b[38;5;241m.\u001b[39mloc[idx_list[\u001b[38;5;241m0\u001b[39m], \u001b[38;5;124m'\u001b[39m\u001b[38;5;124moriginal_line_id\u001b[39m\u001b[38;5;124m'\u001b[39m]\n",
      "\u001b[1;31mNameError\u001b[0m: name 'exit' is not defined"
     ]
    }
   ],
   "source": [
    "fracture_net.calculate_topology()"
   ]
  },
  {
   "cell_type": "markdown",
   "id": "95c18bc9-b039-4eac-a341-6ea9672503ee",
   "metadata": {},
   "source": [
    "### Trubleshooting: geometry problems\n",
    "\n",
    "When calculating the topology the algorithm can engounter geometry related problems. To check and avoid errors run the check geometry method to get a detailed localization of the wrong geometries present in the dataset"
   ]
  },
  {
   "cell_type": "code",
   "execution_count": 6,
   "id": "c5417c45-7ecb-4a7a-9111-9389670bb920",
   "metadata": {},
   "outputs": [
    {
     "name": "stdout",
     "output_type": "stream",
     "text": [
      "\n",
      "\n",
      "\n",
      "Removing possible double points on geometries: 4267/4268\r"
     ]
    }
   ],
   "source": [
    "fracture_net.fractures.remove_double_points()"
   ]
  },
  {
   "cell_type": "code",
   "execution_count": null,
   "id": "55c719a5-235c-4509-b707-8c9de2d8684d",
   "metadata": {},
   "outputs": [],
   "source": []
  }
 ],
 "metadata": {
  "kernelspec": {
   "display_name": "Python 3 (ipykernel)",
   "language": "python",
   "name": "python3"
  },
  "language_info": {
   "codemirror_mode": {
    "name": "ipython",
    "version": 3
   },
   "file_extension": ".py",
   "mimetype": "text/x-python",
   "name": "python",
   "nbconvert_exporter": "python",
   "pygments_lexer": "ipython3",
   "version": "3.10.14"
  }
 },
 "nbformat": 4,
 "nbformat_minor": 5
}
