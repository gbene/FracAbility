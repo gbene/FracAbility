{
 "cells": [
  {
   "cell_type": "markdown",
   "id": "6402b282-c9c6-4a51-8419-2931faaf0da7",
   "metadata": {},
   "source": [
    "# Import and plot a fracture network entity\n",
    "\n",
    "This simple notebook will show how to import and plot the Pontrelli dataset in FracAbility"
   ]
  },
  {
   "cell_type": "code",
   "execution_count": null,
   "id": "ef369740-53d2-455d-9ec4-158d967cc732",
   "metadata": {},
   "outputs": [],
   "source": [
    "from fracability.examples import data  # import the path of the sample data\n",
    "from fracability import Entities  # import the Entities class\n",
    "\n",
    "# The following is only for jupyter to avoid matplotlib inline plots\n",
    "%matplotlib qt5"
   ]
  },
  {
   "cell_type": "markdown",
   "id": "d77f0883-acdb-47d1-92c6-df8814205c77",
   "metadata": {},
   "source": [
    "## Get the pontrelli dataset and display the available file names"
   ]
  },
  {
   "cell_type": "code",
   "execution_count": null,
   "id": "5c18daf8-8505-4ee4-8fb8-c2c9be2b97a9",
   "metadata": {},
   "outputs": [],
   "source": [
    "pontrelli_data = data.Pontrelli()"
   ]
  },
  {
   "cell_type": "code",
   "execution_count": null,
   "id": "b1553b23-c08b-4461-a16d-6807d4d42991",
   "metadata": {},
   "outputs": [],
   "source": [
    "print(pontrelli_data.available_data)"
   ]
  },
  {
   "cell_type": "markdown",
   "id": "dd457383-8b0c-4862-93f6-5b448dcdd9e2",
   "metadata": {},
   "source": [
    "## Create and plot the entities objects\n",
    "\n",
    "In FracAbility a fracture network is composed of: Fractures, Boundaries and Nodes. Fractures can be subdivided in sets (set_n), boundaries in groups (group_n) and nodes in types (n_type). For this notebook we will treat only the importing of fractures and boundaries since is the most common use case scenario. "
   ]
  },
  {
   "cell_type": "code",
   "execution_count": null,
   "id": "b9744c5a-6891-435e-a586-f35a92623b23",
   "metadata": {},
   "outputs": [],
   "source": [
    "data_dict = pontrelli_data.data_dict  # Get dict of paths for the data\n",
    "\n",
    "# Create the fractures and boundary objects. \n",
    "set_a = Entities.Fractures(shp=data_dict['Set_a.shp'], set_n=1)  # to add your data put the absolute path of the shp file\n",
    "set_b = Entities.Fractures(shp=data_dict['Set_b.shp'], set_n=2)\n",
    "set_c = Entities.Fractures(shp=data_dict['Set_c.shp'], set_n=3)\n",
    "\n",
    "boundary = Entities.Boundary(shp=data_dict['Interpretation_boundary.shp'], group_n=1)"
   ]
  },
  {
   "cell_type": "markdown",
   "id": "d3fdd371-18f2-479f-8984-bb06c996dd9c",
   "metadata": {},
   "source": [
    "Entities are internally represented as geopandas dataframes that can be easily viewed. Since it is a geopandas object all the methods and functions for geopandas are available"
   ]
  },
  {
   "cell_type": "code",
   "execution_count": null,
   "id": "d4ccec6c-5345-4945-b648-1e4154552a02",
   "metadata": {},
   "outputs": [],
   "source": [
    "print(set_a.entity_df)"
   ]
  },
  {
   "cell_type": "markdown",
   "id": "96f89941-31b8-409d-9ef7-27a55a8e4b8e",
   "metadata": {},
   "source": [
    "### Plot using VTK or matplotlib"
   ]
  },
  {
   "cell_type": "markdown",
   "id": "ce974da7-4084-4a23-8f38-bad2b3daa102",
   "metadata": {},
   "source": [
    "Entities can be plotted and shown using VTK or matplotlib "
   ]
  },
  {
   "cell_type": "code",
   "execution_count": null,
   "id": "571ae15c-a1cd-4b69-a050-365acd921456",
   "metadata": {},
   "outputs": [],
   "source": [
    "set_a.vtk_plot(linewidth=2, color='blue') # set custom linewidths and color \n",
    "boundary.vtk_plot()\n",
    "set_a.mat_plot(linewidth=2, color='blue') # set custom linewidths and color \n",
    "boundary.mat_plot(linewidth=2, color='black')"
   ]
  },
  {
   "cell_type": "markdown",
   "id": "6e6f3888-bd14-4c0d-8626-b00cac6c5513",
   "metadata": {},
   "source": [
    "## Create the Fracture network object\n",
    "\n",
    "Create the fracture net object. This is the main entity since from this entity all the different topological and statistical calculations will be carried out. "
   ]
  },
  {
   "cell_type": "code",
   "execution_count": null,
   "id": "b1981c2b-f794-4009-ab3a-ae25b40c2dfe",
   "metadata": {},
   "outputs": [],
   "source": [
    "fracture_net = Entities.FractureNetwork()\n",
    "\n",
    "fracture_net.add_fractures(set_a)\n",
    "fracture_net.add_fractures(set_b)\n",
    "fracture_net.add_fractures(set_c)\n",
    "fracture_net.add_boundaries(boundary)"
   ]
  },
  {
   "cell_type": "markdown",
   "id": "a3982954-4fe2-425a-b386-c4f57aa1323e",
   "metadata": {},
   "source": [
    "Also the fracture network object is represented as a dataframe, in this case a normal pandas dataframe composed as such"
   ]
  },
  {
   "cell_type": "code",
   "execution_count": null,
   "id": "eca226ec-31b5-41d3-b106-5b0650b00626",
   "metadata": {},
   "outputs": [],
   "source": [
    "print(fracture_net.entity_df)"
   ]
  },
  {
   "cell_type": "markdown",
   "id": "2a1849a0-4ff5-4f76-a48e-7d87b4211e69",
   "metadata": {},
   "source": [
    "### Plot using VTK or matplotlib"
   ]
  },
  {
   "cell_type": "markdown",
   "id": "71c41ed1-5ca7-4ace-92d1-e12ffa825a00",
   "metadata": {},
   "source": [
    "As the other entities the fracture network can be plotted with vtk or matplotlib"
   ]
  },
  {
   "cell_type": "code",
   "execution_count": null,
   "id": "83b07cf2-a9aa-4c74-ad14-745772efbd24",
   "metadata": {},
   "outputs": [],
   "source": [
    "fracture_net.vtk_plot(fracture_linewidth=1, boundary_linewidth=2, \n",
    "                      fracture_color='black', boundary_color='red') # set fracture color and set linewidth size"
   ]
  },
  {
   "cell_type": "markdown",
   "id": "b16a39d3-c9ed-4397-9f5e-c9f7329e3c7e",
   "metadata": {},
   "source": [
    "You can easly toggle on and off the active entities. The available methods for the fracture network entity will run only on the active entities. "
   ]
  },
  {
   "cell_type": "code",
   "execution_count": null,
   "id": "342138b4-c3c3-46ea-98e3-6a559bff3f85",
   "metadata": {},
   "outputs": [],
   "source": [
    "fracture_net.deactivate_fractures([2,3]) # this will deactivate frature sets 2 and 3\n",
    "fracture_net.vtk_plot()\n",
    "fracture_net.activate_fractures([3]) # this will activate only fracture set 3 so it will be equivalent of fracture_net.deactivate_fractures([1,2])\n",
    "fracture_net.vtk_plot()\n",
    "fracture_net.mat_plot(fracture_linewidth=0.5,boundary_linewidth=2)"
   ]
  }
 ],
 "metadata": {
  "kernelspec": {
   "display_name": "Python 3 (ipykernel)",
   "language": "python",
   "name": "python3"
  },
  "language_info": {
   "codemirror_mode": {
    "name": "ipython",
    "version": 3
   },
   "file_extension": ".py",
   "mimetype": "text/x-python",
   "name": "python",
   "nbconvert_exporter": "python",
   "pygments_lexer": "ipython3",
   "version": "3.10.14"
  }
 },
 "nbformat": 4,
 "nbformat_minor": 5
}
