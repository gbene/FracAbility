{
 "cells": [
  {
   "cell_type": "markdown",
   "id": "419d22ec-358b-4878-b649-89640b271203",
   "metadata": {},
   "source": [
    "# Calculate topology of a fracture network and plotting\n",
    "\n",
    "This notebook will show how to calculate the topology for the Pontrelli dataset, plot:\n",
    "+ The nodes\n",
    "+ The ternary diagram\n",
    "+ The backbone"
   ]
  },
  {
   "cell_type": "code",
   "execution_count": 1,
   "id": "3cc8f1bf-e80f-45ea-9c53-84bfd7ff97a4",
   "metadata": {},
   "outputs": [],
   "source": [
    "from fracability.examples import data  # import the path of the sample data\n",
    "from fracability import Entities  # import the Entities class\n",
    "\n",
    "# The following is only for jupyter to avoid matplotlib inline plots\n",
    "%matplotlib qt5"
   ]
  },
  {
   "cell_type": "markdown",
   "id": "f41eb661-047b-42fb-b62f-9da1a8e57252",
   "metadata": {},
   "source": [
    "## Create fracture network entity"
   ]
  },
  {
   "cell_type": "code",
   "execution_count": 2,
   "id": "d22df7fa-0b59-4042-8c98-4b4f623e49f8",
   "metadata": {},
   "outputs": [],
   "source": [
    "pontrelli_data = data.Pontrelli()\n",
    "data_dict = pontrelli_data.data_dict  # Get dict of paths for the data\n",
    "\n",
    "# Create the fractures and boundary objects. \n",
    "set_a = Entities.Fractures(shp=data_dict['Set_a.shp'], set_n=1)  # to add your data put the absolute path of the shp file\n",
    "set_b = Entities.Fractures(shp=data_dict['Set_b.shp'], set_n=2)\n",
    "set_c = Entities.Fractures(shp=data_dict['Set_c.shp'], set_n=3)\n",
    "\n",
    "boundary = Entities.Boundary(shp=data_dict['Interpretation_boundary.shp'], group_n=1)\n",
    "\n",
    "fracture_net = Entities.FractureNetwork()\n",
    "\n",
    "fracture_net.add_fractures(set_a)\n",
    "fracture_net.add_fractures(set_b)\n",
    "fracture_net.add_fractures(set_c)\n",
    "fracture_net.add_boundaries(boundary)"
   ]
  },
  {
   "cell_type": "code",
   "execution_count": 3,
   "id": "86fa1a6b-2122-4302-8905-4362a9ef2b9c",
   "metadata": {},
   "outputs": [
    {
     "data": {
      "text/html": [
       "<div>\n",
       "<style scoped>\n",
       "    .dataframe tbody tr th:only-of-type {\n",
       "        vertical-align: middle;\n",
       "    }\n",
       "\n",
       "    .dataframe tbody tr th {\n",
       "        vertical-align: top;\n",
       "    }\n",
       "\n",
       "    .dataframe thead th {\n",
       "        text-align: right;\n",
       "    }\n",
       "</style>\n",
       "<table border=\"1\" class=\"dataframe\">\n",
       "  <thead>\n",
       "    <tr style=\"text-align: right;\">\n",
       "      <th></th>\n",
       "      <th>type</th>\n",
       "      <th>object</th>\n",
       "      <th>n_type</th>\n",
       "      <th>f_set</th>\n",
       "      <th>b_group</th>\n",
       "      <th>active</th>\n",
       "    </tr>\n",
       "  </thead>\n",
       "  <tbody>\n",
       "    <tr>\n",
       "      <th>0</th>\n",
       "      <td>fractures</td>\n",
       "      <td>&lt;fracability.Entities.Fractures object at 0x00...</td>\n",
       "      <td>NaN</td>\n",
       "      <td>1</td>\n",
       "      <td>NaN</td>\n",
       "      <td>1</td>\n",
       "    </tr>\n",
       "    <tr>\n",
       "      <th>1</th>\n",
       "      <td>fractures</td>\n",
       "      <td>&lt;fracability.Entities.Fractures object at 0x00...</td>\n",
       "      <td>NaN</td>\n",
       "      <td>2</td>\n",
       "      <td>NaN</td>\n",
       "      <td>1</td>\n",
       "    </tr>\n",
       "    <tr>\n",
       "      <th>2</th>\n",
       "      <td>fractures</td>\n",
       "      <td>&lt;fracability.Entities.Fractures object at 0x00...</td>\n",
       "      <td>NaN</td>\n",
       "      <td>3</td>\n",
       "      <td>NaN</td>\n",
       "      <td>1</td>\n",
       "    </tr>\n",
       "    <tr>\n",
       "      <th>3</th>\n",
       "      <td>boundary</td>\n",
       "      <td>&lt;fracability.Entities.Boundary object at 0x000...</td>\n",
       "      <td>NaN</td>\n",
       "      <td>NaN</td>\n",
       "      <td>1</td>\n",
       "      <td>1</td>\n",
       "    </tr>\n",
       "  </tbody>\n",
       "</table>\n",
       "</div>"
      ],
      "text/plain": [
       "        type                                             object n_type f_set  \\\n",
       "0  fractures  <fracability.Entities.Fractures object at 0x00...    NaN     1   \n",
       "1  fractures  <fracability.Entities.Fractures object at 0x00...    NaN     2   \n",
       "2  fractures  <fracability.Entities.Fractures object at 0x00...    NaN     3   \n",
       "3   boundary  <fracability.Entities.Boundary object at 0x000...    NaN   NaN   \n",
       "\n",
       "  b_group active  \n",
       "0     NaN      1  \n",
       "1     NaN      1  \n",
       "2     NaN      1  \n",
       "3       1      1  "
      ]
     },
     "execution_count": 3,
     "metadata": {},
     "output_type": "execute_result"
    }
   ],
   "source": [
    "fracture_net.entity_df"
   ]
  },
  {
   "cell_type": "markdown",
   "id": "03a7146c-5775-4954-8248-7ddaa81584e0",
   "metadata": {},
   "source": [
    "## Calculate the topology of the network"
   ]
  },
  {
   "cell_type": "code",
   "execution_count": 4,
   "id": "76398d76-ee13-4365-a203-b0d59dbe57fa",
   "metadata": {},
   "outputs": [
    {
     "name": "stdout",
     "output_type": "stream",
     "text": [
      "\n",
      "\n",
      "\n",
      "Calculating intersections on fracture: 4272/4272\n",
      "\n",
      "\n",
      "Analyzing nodes:35746/35746\n",
      "\n",
      "Done!\n"
     ]
    }
   ],
   "source": [
    "fracture_net.calculate_topology()"
   ]
  },
  {
   "cell_type": "code",
   "execution_count": 5,
   "id": "2e1febb9-6bcc-41ce-88a9-3ab29126e707",
   "metadata": {},
   "outputs": [],
   "source": [
    "fracture_net.calculate_backbone()"
   ]
  },
  {
   "cell_type": "code",
   "execution_count": null,
   "id": "81b2f557-15fc-43fc-907a-5d306a2d5df5",
   "metadata": {},
   "outputs": [],
   "source": [
    "fracture_net.backbone"
   ]
  },
  {
   "cell_type": "code",
   "execution_count": 6,
   "id": "a1006cc3-c146-4d31-9bf0-9df5171477a9",
   "metadata": {},
   "outputs": [
    {
     "data": {
      "text/html": [
       "<div>\n",
       "<style scoped>\n",
       "    .dataframe tbody tr th:only-of-type {\n",
       "        vertical-align: middle;\n",
       "    }\n",
       "\n",
       "    .dataframe tbody tr th {\n",
       "        vertical-align: top;\n",
       "    }\n",
       "\n",
       "    .dataframe thead th {\n",
       "        text-align: right;\n",
       "    }\n",
       "</style>\n",
       "<table border=\"1\" class=\"dataframe\">\n",
       "  <thead>\n",
       "    <tr style=\"text-align: right;\">\n",
       "      <th></th>\n",
       "      <th>type</th>\n",
       "      <th>object</th>\n",
       "      <th>n_type</th>\n",
       "      <th>f_set</th>\n",
       "      <th>b_group</th>\n",
       "      <th>active</th>\n",
       "    </tr>\n",
       "  </thead>\n",
       "  <tbody>\n",
       "    <tr>\n",
       "      <th>0</th>\n",
       "      <td>fractures</td>\n",
       "      <td>&lt;fracability.Entities.Fractures object at 0x00...</td>\n",
       "      <td>NaN</td>\n",
       "      <td>1</td>\n",
       "      <td>NaN</td>\n",
       "      <td>1</td>\n",
       "    </tr>\n",
       "    <tr>\n",
       "      <th>1</th>\n",
       "      <td>fractures</td>\n",
       "      <td>&lt;fracability.Entities.Fractures object at 0x00...</td>\n",
       "      <td>NaN</td>\n",
       "      <td>2</td>\n",
       "      <td>NaN</td>\n",
       "      <td>1</td>\n",
       "    </tr>\n",
       "    <tr>\n",
       "      <th>2</th>\n",
       "      <td>fractures</td>\n",
       "      <td>&lt;fracability.Entities.Fractures object at 0x00...</td>\n",
       "      <td>NaN</td>\n",
       "      <td>3</td>\n",
       "      <td>NaN</td>\n",
       "      <td>1</td>\n",
       "    </tr>\n",
       "    <tr>\n",
       "      <th>3</th>\n",
       "      <td>boundary</td>\n",
       "      <td>&lt;fracability.Entities.Boundary object at 0x000...</td>\n",
       "      <td>NaN</td>\n",
       "      <td>NaN</td>\n",
       "      <td>1</td>\n",
       "      <td>1</td>\n",
       "    </tr>\n",
       "    <tr>\n",
       "      <th>4</th>\n",
       "      <td>nodes</td>\n",
       "      <td>&lt;fracability.Entities.Nodes object at 0x000001...</td>\n",
       "      <td>1</td>\n",
       "      <td>NaN</td>\n",
       "      <td>NaN</td>\n",
       "      <td>1</td>\n",
       "    </tr>\n",
       "    <tr>\n",
       "      <th>5</th>\n",
       "      <td>nodes</td>\n",
       "      <td>&lt;fracability.Entities.Nodes object at 0x000001...</td>\n",
       "      <td>3</td>\n",
       "      <td>NaN</td>\n",
       "      <td>NaN</td>\n",
       "      <td>1</td>\n",
       "    </tr>\n",
       "    <tr>\n",
       "      <th>6</th>\n",
       "      <td>nodes</td>\n",
       "      <td>&lt;fracability.Entities.Nodes object at 0x000001...</td>\n",
       "      <td>4</td>\n",
       "      <td>NaN</td>\n",
       "      <td>NaN</td>\n",
       "      <td>1</td>\n",
       "    </tr>\n",
       "    <tr>\n",
       "      <th>7</th>\n",
       "      <td>nodes</td>\n",
       "      <td>&lt;fracability.Entities.Nodes object at 0x000001...</td>\n",
       "      <td>5</td>\n",
       "      <td>NaN</td>\n",
       "      <td>NaN</td>\n",
       "      <td>1</td>\n",
       "    </tr>\n",
       "    <tr>\n",
       "      <th>8</th>\n",
       "      <td>nodes</td>\n",
       "      <td>&lt;fracability.Entities.Nodes object at 0x000001...</td>\n",
       "      <td>6</td>\n",
       "      <td>NaN</td>\n",
       "      <td>NaN</td>\n",
       "      <td>1</td>\n",
       "    </tr>\n",
       "    <tr>\n",
       "      <th>9</th>\n",
       "      <td>backbone</td>\n",
       "      <td>&lt;fracability.Entities.Backbone object at 0x000...</td>\n",
       "      <td>NaN</td>\n",
       "      <td>4</td>\n",
       "      <td>NaN</td>\n",
       "      <td>0</td>\n",
       "    </tr>\n",
       "  </tbody>\n",
       "</table>\n",
       "</div>"
      ],
      "text/plain": [
       "        type                                             object n_type f_set  \\\n",
       "0  fractures  <fracability.Entities.Fractures object at 0x00...    NaN     1   \n",
       "1  fractures  <fracability.Entities.Fractures object at 0x00...    NaN     2   \n",
       "2  fractures  <fracability.Entities.Fractures object at 0x00...    NaN     3   \n",
       "3   boundary  <fracability.Entities.Boundary object at 0x000...    NaN   NaN   \n",
       "4      nodes  <fracability.Entities.Nodes object at 0x000001...      1   NaN   \n",
       "5      nodes  <fracability.Entities.Nodes object at 0x000001...      3   NaN   \n",
       "6      nodes  <fracability.Entities.Nodes object at 0x000001...      4   NaN   \n",
       "7      nodes  <fracability.Entities.Nodes object at 0x000001...      5   NaN   \n",
       "8      nodes  <fracability.Entities.Nodes object at 0x000001...      6   NaN   \n",
       "9   backbone  <fracability.Entities.Backbone object at 0x000...    NaN     4   \n",
       "\n",
       "  b_group active  \n",
       "0     NaN      1  \n",
       "1     NaN      1  \n",
       "2     NaN      1  \n",
       "3       1      1  \n",
       "4     NaN      1  \n",
       "5     NaN      1  \n",
       "6     NaN      1  \n",
       "7     NaN      1  \n",
       "8     NaN      1  \n",
       "9     NaN      0  "
      ]
     },
     "execution_count": 6,
     "metadata": {},
     "output_type": "execute_result"
    }
   ],
   "source": [
    "fracture_net.entity_df"
   ]
  },
  {
   "cell_type": "markdown",
   "id": "16ce4e91-256f-4ed8-bb01-26b9ffa8ba90",
   "metadata": {},
   "source": [
    "### Plot the network"
   ]
  },
  {
   "cell_type": "code",
   "execution_count": null,
   "id": "587d4f0d-b220-4a72-a919-b653e0741e5e",
   "metadata": {},
   "outputs": [],
   "source": [
    "fracture_net.vtk_plot()\n",
    "fracture_net.mat_plot()"
   ]
  },
  {
   "cell_type": "markdown",
   "id": "3125d707-653c-4560-869f-1126f8026bdd",
   "metadata": {},
   "source": [
    "### Plot the ternary diagram and return the number of nodes"
   ]
  },
  {
   "cell_type": "code",
   "execution_count": null,
   "id": "b51526f7-00a8-43a3-9d94-3ab080ddc943",
   "metadata": {},
   "outputs": [],
   "source": [
    "fracture_net.ternary_plot()\n",
    "print(fracture_net.nodes.node_count)"
   ]
  },
  {
   "cell_type": "markdown",
   "id": "c5ad7b72-87da-4bb3-b1c8-c70d389f52a6",
   "metadata": {},
   "source": [
    "### Plot the backbone"
   ]
  },
  {
   "cell_type": "code",
   "execution_count": null,
   "id": "7116a8bf-2682-4530-aa6e-ccbf0f94b641",
   "metadata": {},
   "outputs": [],
   "source": [
    "fracture_net.backbone_plot('vtk')"
   ]
  },
  {
   "cell_type": "code",
   "execution_count": null,
   "id": "ec2b5dce-1b36-4c17-ba4e-31d0e1cef966",
   "metadata": {},
   "outputs": [],
   "source": [
    "fracture_net.backbone_plot('matplot')"
   ]
  },
  {
   "cell_type": "code",
   "execution_count": null,
   "id": "95e538df-e67a-4318-98bd-e09552505979",
   "metadata": {},
   "outputs": [],
   "source": [
    "fracture_net.mat_plot()"
   ]
  },
  {
   "cell_type": "code",
   "execution_count": 7,
   "id": "f91287a7-19f0-465b-92f5-5f1da40f1c47",
   "metadata": {},
   "outputs": [
    {
     "name": "stderr",
     "output_type": "stream",
     "text": [
      "C:\\Users\\gabri\\miniconda3\\envs\\fracability_test\\lib\\site-packages\\fracability\\AbstractClasses.py:311: UserWarning: Column names longer than 10 characters will be truncated when saved to ESRI Shapefile.\n",
      "  entity_df.to_file(final_path, crs=self.crs)\n",
      "C:\\Users\\gabri\\miniconda3\\envs\\fracability_test\\lib\\site-packages\\fracability\\AbstractClasses.py:301: UserWarning: Column names longer than 10 characters will be truncated when saved to ESRI Shapefile.\n",
      "  entity_df.to_file(final_path, crs=self.crs)\n",
      "C:\\Users\\gabri\\miniconda3\\envs\\fracability_test\\lib\\site-packages\\fracability\\AbstractClasses.py:301: UserWarning: Column names longer than 10 characters will be truncated when saved to ESRI Shapefile.\n",
      "  entity_df.to_file(final_path, crs=self.crs)\n",
      "C:\\Users\\gabri\\miniconda3\\envs\\fracability_test\\lib\\site-packages\\fracability\\AbstractClasses.py:301: UserWarning: Column names longer than 10 characters will be truncated when saved to ESRI Shapefile.\n",
      "  entity_df.to_file(final_path, crs=self.crs)\n",
      "C:\\Users\\gabri\\miniconda3\\envs\\fracability_test\\lib\\site-packages\\fracability\\AbstractClasses.py:307: UserWarning: Column names longer than 10 characters will be truncated when saved to ESRI Shapefile.\n",
      "  entity_df.to_file(final_path, crs=self.crs)\n",
      "C:\\Users\\gabri\\miniconda3\\envs\\fracability_test\\lib\\site-packages\\fracability\\AbstractClasses.py:301: UserWarning: Column names longer than 10 characters will be truncated when saved to ESRI Shapefile.\n",
      "  entity_df.to_file(final_path, crs=self.crs)\n"
     ]
    }
   ],
   "source": [
    "fracture_net.save_shp('Test')"
   ]
  },
  {
   "cell_type": "code",
   "execution_count": null,
   "id": "f8cb9ead-4bf1-4dd9-8349-3aefb4b1752c",
   "metadata": {},
   "outputs": [],
   "source": []
  }
 ],
 "metadata": {
  "kernelspec": {
   "display_name": "Python 3 (ipykernel)",
   "language": "python",
   "name": "python3"
  },
  "language_info": {
   "codemirror_mode": {
    "name": "ipython",
    "version": 3
   },
   "file_extension": ".py",
   "mimetype": "text/x-python",
   "name": "python",
   "nbconvert_exporter": "python",
   "pygments_lexer": "ipython3",
   "version": "3.10.14"
  }
 },
 "nbformat": 4,
 "nbformat_minor": 5
}
