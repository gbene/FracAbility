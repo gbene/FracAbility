{
 "cells": [
  {
   "cell_type": "markdown",
   "id": "98f88f5a-ff5c-4b67-a978-452ae1e11a93",
   "metadata": {},
   "source": [
    "# Export fracture network data\n",
    "\n",
    "This notebook will show how to export data from FracAbility as csv or shp. The path argument in both save functions indicates the directory in which the output will be saved. If the directory does not exisit, it will be created.\n",
    "Inside the specified directory the following structure will be created: \n",
    "```bash\n",
    "Directory\n",
    "└── output\n",
    "    ├── csv\n",
    "    │   └── all csv files\n",
    "    └── shp\n",
    "        ├── qgis_style\n",
    "        │   └── Nodes and Boundary qgis style file\n",
    "        └── All shp files\n",
    "```"
   ]
  },
  {
   "cell_type": "code",
   "execution_count": null,
   "id": "1ae02bfc-56fc-439c-8d43-53e95f14a8bb",
   "metadata": {},
   "outputs": [],
   "source": [
    "from fracability.examples import data  # import the path of the sample data\n",
    "from fracability import Entities"
   ]
  },
  {
   "cell_type": "code",
   "execution_count": null,
   "id": "e6908f3a-9c2d-49a0-ad33-5156f6ef1cf1",
   "metadata": {},
   "outputs": [],
   "source": [
    "pontrelli_data = data.Pontrelli()\n",
    "data_dict = pontrelli_data.data_dict  # Get dict of paths for the data\n",
    "\n",
    "# Create the fractures and boundary objects. \n",
    "# Create the fractures and boundary objects. \n",
    "set_a = Entities.Fractures(shp=data_dict['Set_a.shp'], set_n=1)  # to add your data put the absolute path of the shp file\n",
    "set_b = Entities.Fractures(shp=data_dict['Set_b.shp'], set_n=2)\n",
    "set_c = Entities.Fractures(shp=data_dict['Set_c.shp'], set_n=3)\n",
    "\n",
    "boundary = Entities.Boundary(shp=data_dict['Interpretation_boundary.shp'], group_n=1)\n",
    "\n"
   ]
  },
  {
   "cell_type": "code",
   "execution_count": null,
   "id": "c2b1e01d-e9d9-4d73-9337-0593b4390720",
   "metadata": {},
   "outputs": [],
   "source": [
    "path_entities = 'Test_entities'\n",
    "\n",
    "\n",
    "boundary.save_shp(path=path_entities)\n",
    "boundary.save_csv(path=path_entities)\n",
    "set_a.save_shp(path=path_entities)\n",
    "set_a.save_csv(path=path_entities)\n",
    "set_b.save_shp(path=path_entities)\n",
    "set_b.save_csv(path=path_entities)\n",
    "set_c.save_shp(path=path_entities)\n",
    "set_c.save_csv(path=path_entities)"
   ]
  },
  {
   "cell_type": "markdown",
   "id": "cf7549f7-9fd2-4e36-8ffa-5a31a46b3bbf",
   "metadata": {},
   "source": [
    "Also the fracture network entity can be exported"
   ]
  },
  {
   "cell_type": "code",
   "execution_count": null,
   "id": "26be2cd2-51a8-4e7e-b0a0-f152d139f0dd",
   "metadata": {},
   "outputs": [],
   "source": [
    "fracture_net = Entities.FractureNetwork()\n",
    "\n",
    "fracture_net.add_fractures(set_a)\n",
    "fracture_net.add_fractures(set_b)\n",
    "fracture_net.add_fractures(set_c)\n",
    "fracture_net.add_boundaries(boundary)\n",
    "\n",
    "fracture_net.calculate_topology()"
   ]
  },
  {
   "cell_type": "code",
   "execution_count": null,
   "id": "528f8d24-6a9a-4868-9cf3-e817191f8c5b",
   "metadata": {},
   "outputs": [],
   "source": [
    "path_fn = 'Test_FN'\n",
    "\n",
    "\n",
    "fracture_net.save_shp(path=path_fn)\n",
    "fracture_net.save_csv(path=path_fn)\n"
   ]
  },
  {
   "cell_type": "code",
   "execution_count": null,
   "id": "cb5ae032-c4e3-42a9-a004-2072fc204bdc",
   "metadata": {},
   "outputs": [],
   "source": [
    "fracture_net.fractures.entity_df"
   ]
  }
 ],
 "metadata": {
  "kernelspec": {
   "display_name": "Python 3 (ipykernel)",
   "language": "python",
   "name": "python3"
  },
  "language_info": {
   "codemirror_mode": {
    "name": "ipython",
    "version": 3
   },
   "file_extension": ".py",
   "mimetype": "text/x-python",
   "name": "python",
   "nbconvert_exporter": "python",
   "pygments_lexer": "ipython3",
   "version": "3.10.14"
  }
 },
 "nbformat": 4,
 "nbformat_minor": 5
}
